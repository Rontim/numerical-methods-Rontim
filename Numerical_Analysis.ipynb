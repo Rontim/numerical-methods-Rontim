{
 "cells": [
  {
   "attachments": {},
   "cell_type": "markdown",
   "metadata": {},
   "source": [
    "# Numerical Analysis\n",
    "\n",
    "_____________\n",
    "\n",
    "## Comparison between Bisection Method and Newton Raphson Method using Timeit in python\n",
    "\n",
    "The Higher Order equation used \n",
    "$$f(x) = x^4 + 2x^3 - 5x$$\n",
    "\n",
    "And it's derivative\n",
    "$$\n",
    "\\dfrac{df}{dx} = 4x^3 + 6x^2 - 5$$\n",
    "$$"
   ]
  },
  {
   "cell_type": "code",
   "execution_count": 7,
   "metadata": {},
   "outputs": [],
   "source": [
    "def f(x):\n",
    "    return x**4 + 2*x**3 - 5*x\n",
    "\n",
    "def df(x):\n",
    "    return 4*x**3 + 6*x**2 - 5"
   ]
  },
  {
   "cell_type": "code",
   "execution_count": 2,
   "metadata": {},
   "outputs": [
    {
     "name": "stdout",
     "output_type": "stream",
     "text": [
      "2000000.0\n"
     ]
    }
   ],
   "source": [
    "a = 2\n",
    "b = 4\n",
    "tolerance = 2e6\n",
    "max_iterations = 10000\n",
    "print(tolerance)\n"
   ]
  },
  {
   "cell_type": "code",
   "execution_count": 3,
   "metadata": {},
   "outputs": [],
   "source": [
    "def bisection(a, b, tolerance, max_iterations):\n",
    "    count = 0\n",
    "\n",
    "    for i in range(max_iterations):\n",
    "        c = (a + b)/2\n",
    "        count += 1\n",
    "        if abs(f(c)) < tolerance:\n",
    "            return c\n",
    "        \n",
    "\n",
    "        elif f(c) * f(a) < 0:\n",
    "            b = c\n",
    "        \n",
    "        else :\n",
    "            a = c\n",
    "\n",
    "    print(count)"
   ]
  },
  {
   "cell_type": "code",
   "execution_count": 4,
   "metadata": {},
   "outputs": [
    {
     "data": {
      "text/plain": [
       "2.0945514815642077"
      ]
     },
     "execution_count": 4,
     "metadata": {},
     "output_type": "execute_result"
    }
   ],
   "source": [
    "\n",
    "\n",
    "\n",
    "\n",
    "def newton_method():\n",
    "    Xn = 1\n",
    "    tolerance = 1e-6\n",
    "    max_iter = 100\n",
    "\n",
    "    for i in range(max_iter):\n",
    "        x = f(Xn)\n",
    "        y = df(Xn)\n",
    "\n",
    "        Xi = Xn - (x/y)\n",
    "        if abs(f(Xn)) < tolerance:\n",
    "            return Xn\n",
    "\n",
    "        else:\n",
    "            Xn = Xi\n",
    "\n",
    "        \n",
    "\n",
    "newton_method()\n"
   ]
  },
  {
   "cell_type": "code",
   "execution_count": 5,
   "metadata": {},
   "outputs": [
    {
     "name": "stdout",
     "output_type": "stream",
     "text": [
      "Newton Method: 2.027300070039928e-05 Seconds \n",
      "Bisection Method: 2.9600050766021013e-06 Seconds\n"
     ]
    }
   ],
   "source": [
    "from timeit import Timer\n",
    "\n",
    "t = Timer(\"newton_method()\", \"from __main__ import newton_method\")\n",
    "tb = Timer(\"bisection(a, b, tolerance, max_iterations)\", \"from __main__ import bisection, a, b, tolerance, max_iterations\")\n",
    "\n",
    "print(\"Newton Method: \" +str(t.timeit(1))+ \" Seconds \\nBisection Method: \" +str(tb.timeit(1))+ \" Seconds\")\n",
    "\n",
    "\n"
   ]
  }
 ],
 "metadata": {
  "kernelspec": {
   "display_name": "Python 3",
   "language": "python",
   "name": "python3"
  },
  "language_info": {
   "codemirror_mode": {
    "name": "ipython",
    "version": 3
   },
   "file_extension": ".py",
   "mimetype": "text/x-python",
   "name": "python",
   "nbconvert_exporter": "python",
   "pygments_lexer": "ipython3",
   "version": "3.10.6"
  },
  "orig_nbformat": 4
 },
 "nbformat": 4,
 "nbformat_minor": 2
}
